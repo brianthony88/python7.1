{
 "cells": [
  {
   "cell_type": "markdown",
   "metadata": {},
   "source": [
    "# Algorithms, Binary Search & Linked Lists"
   ]
  },
  {
   "cell_type": "markdown",
   "metadata": {},
   "source": [
    "## Tasks Today:\n",
    " \n",
    "1) <b>In-Place Algorithms</b> <br>\n",
    " &nbsp;&nbsp;&nbsp;&nbsp; a) Syntax <br>\n",
    " &nbsp;&nbsp;&nbsp;&nbsp; a) Out of Place Algorithm <br>\n",
    " &nbsp;&nbsp;&nbsp;&nbsp; b) In-Class Exercise #1 <br>\n",
    "2) <b>Two Pointers</b> <br>\n",
    "3) <b>Linked Lists</b> <br>\n",
    "4) <b>Merge Sort</b> <br>\n",
    " &nbsp;&nbsp;&nbsp;&nbsp; a) Video on Algorithms <br>\n",
    " &nbsp;&nbsp;&nbsp;&nbsp; b) How it Works <br>\n",
    "5) <b>Exercises</b> <br>\n",
    " &nbsp;&nbsp;&nbsp;&nbsp; a) Exercise #1 - Reverse a List in Place Using an In-Place Algorithm <br>\n",
    " &nbsp;&nbsp;&nbsp;&nbsp; b) Exercise #2 - Find Distinct Words <br>\n",
    " &nbsp;&nbsp;&nbsp;&nbsp; c) Exercise #3 - Write a program to implement a Linear Search Algorithm. <br>"
   ]
  },
  {
   "cell_type": "markdown",
   "metadata": {},
   "source": [
    "## In-Place Algorithms"
   ]
  },
  {
   "cell_type": "markdown",
   "metadata": {},
   "source": [
    "#### Syntax"
   ]
  },
  {
   "cell_type": "code",
   "execution_count": 6,
   "metadata": {},
   "outputs": [
    {
     "name": "stdout",
     "output_type": "stream",
     "text": [
      "Before swap: [20, 4, 10]\n",
      "20\n",
      "After swap: [10, 4, 20]\n",
      "10\n"
     ]
    }
   ],
   "source": [
    "# var[i], var[i + 1] = var[i + 1], var[i]\n",
    "# sometimes known as a swap algorithm\n",
    "\n",
    "def swap(a_list, x, y, z):\n",
    "    a_list[x], a_list[y], a_list[z] = a_list[z], a_list[y], a_list[x]\n",
    "    return a_list\n",
    "\n",
    "my_list = [20, 4, 10]\n",
    "print(f\"Before swap: {my_list}\")\n",
    "print(my_list[0])\n",
    "\n",
    "swap(my_list, 2, 1, 0)\n",
    "# swap(my_list, 2, 0, 1)\n",
    "\n",
    "\n",
    "print(f\"After swap: {my_list}\")\n",
    "print(my_list[0])"
   ]
  },
  {
   "cell_type": "markdown",
   "metadata": {},
   "source": [
    "#### Out of Place Algorithm"
   ]
  },
  {
   "cell_type": "code",
   "execution_count": 9,
   "metadata": {},
   "outputs": [
    {
     "name": "stdout",
     "output_type": "stream",
     "text": [
      "Before ['a', 'b', 'c', 'd']\n",
      "After ['d', 'c', 'b', 'a']\n"
     ]
    }
   ],
   "source": [
    "# Not swapping, completly reverses BUT also copies to another place in memory\n",
    "\n",
    "my_list_copy = my_list[::-1]\n",
    "# print(my_list_copy)\n",
    "# print(my_list)\n",
    "\n",
    "\n",
    "array = ['a', 'b', 'c', 'd']\n",
    "new_array = ['a'] * len(array)\n",
    "\n",
    "print(\"Before\", array)\n",
    "length = len(array) - 1\n",
    "\n",
    "for i in range(length):\n",
    "    new_array[i] = array[length - i]\n",
    "\n",
    "array = new_array\n",
    "print(\"After\", array)"
   ]
  },
  {
   "cell_type": "markdown",
   "metadata": {},
   "source": [
    "#### In-Class Exercise #1 <br>\n",
    "<p>Write a function that takes in four arguments (list, index1, index2, index3), and swaps those three positions in the list passed in.</p>"
   ]
  },
  {
   "cell_type": "code",
   "execution_count": 19,
   "metadata": {},
   "outputs": [
    {
     "name": "stdout",
     "output_type": "stream",
     "text": [
      "Original list: [10, 4, 3, 8, 4, 2, 6]\n",
      "List after swapping: [10, 2, 3, 4, 4, 8, 6]\n"
     ]
    }
   ],
   "source": [
    "list_1 = [10, 4, 3, 8, 4, 2, 6]\n",
    "\n",
    "# first make the deffinition for this formula\n",
    "def swap_elements(list_1, index1, index2, index3):\n",
    "    # Check if indices are within the range of the list\n",
    "    if index1 < 0 or index1 >= len(list_1) or index2 < 0 or index2 >= len(list_1) or index3 < 0 or index3 >= len(list_1):\n",
    "        print(\"One or more indices are out of range.\")\n",
    "        return\n",
    "    \n",
    "    # Swap the elements\n",
    "#     this one will be basically saying where index 1,3,5 in the list. will be moved to 5,1,3 in the end result\n",
    "    list_1[index1], list_1[index2], list_1[index3] = list_1[index3], list_1[index1], list_1[index2]\n",
    "    \n",
    "    return list_1\n",
    "\n",
    "# Test the function\n",
    "list_1 = [10, 4, 3, 8, 4, 2, 6]\n",
    "print(\"Original list:\", list_1)\n",
    "# this is where I can swap the indexes above to certain values from the original list\n",
    "# in this case I am moving index 1,3,5 from the original list\n",
    "# If I wanted to change different values I can change the index I want to swap here. \n",
    "swapped_list = swap_elements(list_1, 1, 3, 5)\n",
    "# swapped_list = swap_elements(list_1, 0, 2, 6) #code I am playing with on this example\n",
    "print(\"List after swapping:\", swapped_list)\n",
    "\n"
   ]
  },
  {
   "cell_type": "markdown",
   "metadata": {},
   "source": [
    "## Two Pointers"
   ]
  },
  {
   "cell_type": "markdown",
   "metadata": {},
   "source": [
    "#### Syntax"
   ]
  },
  {
   "cell_type": "code",
   "execution_count": 6,
   "metadata": {},
   "outputs": [
    {
     "data": {
      "text/plain": [
       "[22, 11, 4, 8, 9, 12, 3, 2, 1]"
      ]
     },
     "execution_count": 6,
     "metadata": {},
     "output_type": "execute_result"
    }
   ],
   "source": [
    "# alist[left], alist[right] = alista[right], alist[left]\n",
    "\n",
    "def twoPointers(alist):\n",
    "#     Creat the pointers\n",
    "    left = 0\n",
    "    right = len(alist) - 1\n",
    "    #set up a loop that works though our list and swaps things one pair at a time. \n",
    "    while left <= right:\n",
    "        alist[left], alist[right] = alist[right], alist[left]\n",
    "        left += 1\n",
    "        right -= 1\n",
    "    return alist\n",
    "\n",
    "my_list2 = [1,2,3,12,9,8,4,11,22]\n",
    "twoPointers(my_list2)\n"
   ]
  },
  {
   "cell_type": "markdown",
   "metadata": {},
   "source": [
    "#### Video of Algorithms <br>\n",
    "<p>Watch the video about algorithms.</p>\n",
    "\n",
    "https://www.youtube.com/watch?v=Q9HjeFD62Uk\n",
    "\n",
    "https://www.youtube.com/watch?v=kPRA0W1kECg\n",
    "\n",
    "https://www.youtube.com/watch?v=ZZuD6iUe3Pc"
   ]
  },
  {
   "cell_type": "markdown",
   "metadata": {},
   "source": [
    "# Sorting Algorithms"
   ]
  },
  {
   "cell_type": "markdown",
   "metadata": {},
   "source": [
    "#### Bubble Sort\n",
    "\n",
    "Worst Case: O(n^2) Time - O(1) Space"
   ]
  },
  {
   "cell_type": "code",
   "execution_count": null,
   "metadata": {},
   "outputs": [],
   "source": [
    "# Best case O(n) - Linear\n",
    "\n",
    "def swap(i, j, array):\n",
    "    array[i], array[j] = array[j], array[i]\n",
    "    \n",
    "def bubblesort(array):\n",
    "    isSorted = False\n",
    "    while not issorted:\n",
    "        isSorted = True\n",
    "        for num in range(len(array) - 1):\n",
    "            if array[num] > array[num+1]:\n",
    "                swap(num, num+1, array)\n",
    "                isSorted = False\n",
    "    \n",
    "    return array\n",
    "bubblesort([22, 55, 88, 44, 1, 100, 34, 66])"
   ]
  },
  {
   "cell_type": "markdown",
   "metadata": {},
   "source": [
    "##### Insertion Sort\n",
    "\n",
    "Worst Case: O(n^2) time - O(1)space"
   ]
  },
  {
   "cell_type": "code",
   "execution_count": 2,
   "metadata": {},
   "outputs": [
    {
     "data": {
      "text/plain": [
       "[22, 55, 88, 44, 1, 100, 34, 66]"
      ]
     },
     "execution_count": 2,
     "metadata": {},
     "output_type": "execute_result"
    }
   ],
   "source": [
    "def swap(i, j, array):\n",
    "    array[i], array[j] = array[j], array[i]\n",
    "    \n",
    "def insertionSort(array):\n",
    "    for i in range(1, len(array)):\n",
    "        j=i\n",
    "        while j > 0 and array[j] < array[j-1]:\n",
    "            j -= 1\n",
    "    return array\n",
    "insertionSort([22, 55, 88, 44, 1, 100, 34, 66])"
   ]
  },
  {
   "cell_type": "markdown",
   "metadata": {},
   "source": [
    "## Merge Sort"
   ]
  },
  {
   "cell_type": "markdown",
   "metadata": {},
   "source": [
    "#### How it Works"
   ]
  },
  {
   "cell_type": "code",
   "execution_count": 6,
   "metadata": {},
   "outputs": [
    {
     "name": "stdout",
     "output_type": "stream",
     "text": [
      "Splitting...... [9, 15, 20, 9, 15]\n",
      "Splitting...... [9, 15]\n",
      "Splitting...... [9]\n",
      "Merging..... [9]\n",
      "Splitting...... [15]\n",
      "Merging..... [15]\n",
      "Merging..... [15, 15]\n",
      "Splitting...... [20, 9, 15]\n",
      "Splitting...... [20]\n",
      "Merging..... [20]\n",
      "Splitting...... [9, 15]\n",
      "Splitting...... [9]\n",
      "Merging..... [9]\n",
      "Splitting...... [15]\n",
      "Merging..... [15]\n",
      "Merging..... [15, 15]\n",
      "Merging..... [15, 15, 20]\n",
      "Merging..... [15, 15, 20, 9, 15]\n"
     ]
    },
    {
     "data": {
      "text/plain": [
       "[15, 15, 20, 9, 15]"
      ]
     },
     "execution_count": 6,
     "metadata": {},
     "output_type": "execute_result"
    }
   ],
   "source": [
    "# Step 1: split everything into it's own group\n",
    "# Step 2: from left to right merge two groups together.\n",
    "# Step 3: While merging, place each item in the correct position within the merged group\n",
    "# Step 4: continue steps 3-4 until only one group is left\n",
    "\n",
    "from random import randint\n",
    "# used to generate a randome list of 5 numbers from 0 to 20.\n",
    "nums = [randint(0,20) for i in range(5)]\n",
    "\n",
    "# write our merge sort below\n",
    "def mergeSort(alist):\n",
    "    print(\"Splitting......\", alist)\n",
    "    \n",
    "    # Step 1: Divide the array into equal parts (as much as possible)\n",
    "    if len(alist) > 1:\n",
    "        mid = len(alist) // 2\n",
    "        lefthalf = alist[:mid]\n",
    "        righthalf = alist[mid:]\n",
    "        \n",
    "        # Recursively call mergeSort to perform splits if needed\n",
    "        # THEN merge once the splits are done.\n",
    "        mergeSort(lefthalf)\n",
    "        mergeSort(righthalf)\n",
    "        \n",
    "        # index pointers for our list\n",
    "        i = 0 # pointer for our lefthalf\n",
    "        j = 0 # pointer for our righthalf\n",
    "        k = 0 # pointer for our main array\n",
    "        \n",
    "        # Step 2: Compare the righthalf and the lefthalf\n",
    "        while i < len(lefthalf) and j < len(righthalf):\n",
    "            if lefthalf[i] < righthalf[j]:\n",
    "                alist[k] = lefthalf[i]\n",
    "                i = i + 1\n",
    "            else: \n",
    "                alist[k] = righthalf[j]\n",
    "                j = j + 1\n",
    "                k = k + 1\n",
    "        # While merging, place the item in the correct positions. \n",
    "        while i < len(lefthalf):\n",
    "            alist[k] = lefthalf[i]\n",
    "            i = i + 1\n",
    "            k = k + 1\n",
    "        while j < len(righthalf):\n",
    "            alist[k] = righthalf[j]\n",
    "            j = j + 1\n",
    "            k = k + 1\n",
    "    print(\"Merging.....\", alist)\n",
    "    return alist\n",
    "\n",
    "mergeSort(nums)"
   ]
  },
  {
   "cell_type": "markdown",
   "metadata": {},
   "source": [
    "# Binary Search\n",
    "\n",
    "The Binary Search algorithm works by finding the number in the middle of a given array and comparing it to the target. Given that the array is sorted\n",
    "\n",
    "* The worst case run time for this algorithm is `O(log(n))`"
   ]
  },
  {
   "cell_type": "code",
   "execution_count": 8,
   "metadata": {},
   "outputs": [
    {
     "data": {
      "text/plain": [
       "'The index is..... 1'"
      ]
     },
     "execution_count": 8,
     "metadata": {},
     "output_type": "execute_result"
    }
   ],
   "source": [
    "# Less = Left\n",
    "# Greater = Right\n",
    "# List of numbers MUST be sorted!!!!!\n",
    "\n",
    "def binarySearchHelperFunciton(array, target, left, right):\n",
    "    while left <= right:\n",
    "        middle = (left + right) // 2\n",
    "        potentialMatch = array[middle]\n",
    "        if target == potentialMatch:\n",
    "            return f\"The index is..... {middle}\"\n",
    "        elif target < potentialMatch:\n",
    "            right = middle - 1\n",
    "        else:\n",
    "            left = middle + 1\n",
    "    return -1\n",
    "def binarySearch(array, target):\n",
    "    return binarySearchHelperFunciton(array, target, 0, len(array) - 1)\n",
    "\n",
    "binarySearch([22, 44, 55, 66, 88, 100], 44)"
   ]
  },
  {
   "cell_type": "markdown",
   "metadata": {},
   "source": [
    "# Exercises"
   ]
  },
  {
   "cell_type": "markdown",
   "metadata": {},
   "source": [
    "### Exercise #1 <br>\n",
    "<p>Reverse the list below in-place using an in-place algorithm.<br>For extra credit: Reverse the strings at the same time.</p>"
   ]
  },
  {
   "cell_type": "code",
   "execution_count": 9,
   "metadata": {},
   "outputs": [
    {
     "name": "stdout",
     "output_type": "stream",
     "text": [
      "Original list: ['this', 'is', 'a', 'sentence', '.']\n",
      "Reversed list with reversed strings: ['.', 'ecnetnes', 'a', 'si', 'siht']\n"
     ]
    }
   ],
   "source": [
    "words = ['this' , 'is', 'a', 'sentence', '.']\n",
    "\n",
    "def reverse_list_inplace(words):\n",
    "    # Two pointers approach\n",
    "    left = 0\n",
    "    right = len(words) - 1\n",
    "    \n",
    "    # Loop through the list until the pointers meet\n",
    "    while left < right:\n",
    "        # Swap the elements at the left and right positions\n",
    "        words[left], words[right] = words[right], words[left]\n",
    "        # Move the pointers towards the center\n",
    "        left += 1\n",
    "        right -= 1\n",
    "\n",
    "    # Extra credit: Reverse the strings in the list\n",
    "    for i in range(len(words)):\n",
    "        words[i] = words[i][::-1]\n",
    "\n",
    "# Original list\n",
    "words = ['this', 'is', 'a', 'sentence', '.']\n",
    "print(\"Original list:\", words)\n",
    "\n",
    "# Reverse the list in-place and reverse the strings at the same time\n",
    "reverse_list_inplace(words)\n",
    "print(\"Reversed list with reversed strings:\", words)\n",
    "\n"
   ]
  },
  {
   "cell_type": "markdown",
   "metadata": {},
   "source": [
    "### Exercise #2 <br>\n",
    "<p>Create a function that counts how many distinct words are in the string below, then outputs a dictionary with the words as the key and the value as the amount of times that word appears in the string.<br>Should output:<br>{'a': 5,<br>\n",
    " 'abstract': 1,<br>\n",
    " 'an': 3,<br>\n",
    " 'array': 2, ... etc...</p>"
   ]
  },
  {
   "cell_type": "code",
   "execution_count": 10,
   "metadata": {},
   "outputs": [
    {
     "name": "stdout",
     "output_type": "stream",
     "text": [
      "{'in': 1, 'computing': 1, 'a': 5, 'hash': 4, 'table': 2, 'map': 2, 'is': 1, 'data': 2, 'structure': 2, 'which': 2, 'implements': 1, 'an': 3, 'associative': 1, 'array': 2, 'abstract': 1, 'type': 1, 'that': 1, 'can': 2, 'keys': 1, 'to': 2, 'values': 1, 'uses': 1, 'function': 1, 'compute': 1, 'index': 1, 'into': 1, 'of': 1, 'buckets': 1, 'or': 1, 'slots': 1, 'from': 1, 'the': 1, 'desired': 1, 'value': 1, 'be': 1, 'found': 1}\n"
     ]
    }
   ],
   "source": [
    "a_text = 'In computing, a hash table hash map is a data structure which implements an associative array abstract data type, a structure that can map keys to values. A hash table uses a hash function to compute an index into an array of buckets or slots from which the desired value can be found'\n",
    "\n",
    "def count_word_occurrences(text):\n",
    "    # Split the text into individual words\n",
    "    words = text.split()\n",
    "    \n",
    "    # Create an empty dictionary to store word counts\n",
    "    word_counts = {}\n",
    "    \n",
    "    # Count occurrences of each distinct word\n",
    "    for word in words:\n",
    "        # Convert word to lowercase to ensure case-insensitivity\n",
    "        word = word.lower()\n",
    "        # Remove punctuation marks (if any)\n",
    "        word = word.strip(\".,!?\")\n",
    "        # Update the count of the word in the dictionary\n",
    "        word_counts[word] = word_counts.get(word, 0) + 1\n",
    "    \n",
    "    return word_counts\n",
    "\n",
    "# Input text\n",
    "a_text = 'In computing, a hash table hash map is a data structure which implements an associative array abstract data type, a structure that can map keys to values. A hash table uses a hash function to compute an index into an array of buckets or slots from which the desired value can be found'\n",
    "\n",
    "# Count word occurrences and store them in a dictionary\n",
    "word_occurrences = count_word_occurrences(a_text)\n",
    "\n",
    "# Output the dictionary\n",
    "print(word_occurrences)\n"
   ]
  },
  {
   "cell_type": "markdown",
   "metadata": {},
   "source": [
    "## Exercise #3\n",
    "\n",
    "Write a program to implement a Linear Search Algorithm. Also in a comment, write the Time Complexity of the following algorithm.\n",
    "\n",
    "#### Hint: Linear Searching will require searching a list for a given number. "
   ]
  },
  {
   "cell_type": "code",
   "execution_count": 11,
   "metadata": {},
   "outputs": [
    {
     "name": "stdout",
     "output_type": "stream",
     "text": [
      "Element 40 is present at index 3\n"
     ]
    }
   ],
   "source": [
    "def linear_search(arr, target):\n",
    "    \"\"\"\n",
    "    Linear Search Algorithm\n",
    "    Time Complexity: O(n) - Linear\n",
    "    \"\"\"\n",
    "    for i in range(len(arr)):\n",
    "        if arr[i] == target:\n",
    "            return i  # Return the index if the target is found\n",
    "    return -1  # Return -1 if the target is not found in the list\n",
    "\n",
    "# Example usage:\n",
    "arr = [10, 20, 30, 40, 50, 60]\n",
    "target = 40\n",
    "result = linear_search(arr, target)\n",
    "if result != -1:\n",
    "    print(f\"Element {target} is present at index {result}\")\n",
    "else:\n",
    "    print(f\"Element {target} is not present in the list\")\n"
   ]
  }
 ],
 "metadata": {
  "kernelspec": {
   "display_name": "Python 3 (ipykernel)",
   "language": "python",
   "name": "python3"
  },
  "language_info": {
   "codemirror_mode": {
    "name": "ipython",
    "version": 3
   },
   "file_extension": ".py",
   "mimetype": "text/x-python",
   "name": "python",
   "nbconvert_exporter": "python",
   "pygments_lexer": "ipython3",
   "version": "3.11.4"
  }
 },
 "nbformat": 4,
 "nbformat_minor": 2
}
